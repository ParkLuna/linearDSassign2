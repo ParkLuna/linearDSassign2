{
 "cells": [
  {
   "cell_type": "code",
   "execution_count": 3,
   "metadata": {},
   "outputs": [
    {
     "name": "stdout",
     "output_type": "stream",
     "text": [
      "Original Linked List:\n",
      "1 -> 2 -> -3 -> 3 -> -3 -> 4 -> 5 -> -5 -> 6 -> None\n",
      "Linked List after deleting elements with zero sum:\n",
      "6 -> None\n"
     ]
    }
   ],
   "source": [
    "#Q1. Delete the elements in an linked list whose sum is equal to zero\n",
    "\n",
    "\n",
    "class Node:\n",
    "    def __init__(self, data):\n",
    "        self.data = data\n",
    "        self.next = None\n",
    "\n",
    "class LinkedList:\n",
    "    def __init__(self):\n",
    "        self.head = None\n",
    "    \n",
    "    def insert(self, data):\n",
    "        new_node = Node(data)\n",
    "        if not self.head:\n",
    "            self.head = new_node\n",
    "        else:\n",
    "            current = self.head\n",
    "            while current.next:\n",
    "                current = current.next\n",
    "            current.next = new_node\n",
    "    \n",
    "    def display(self):\n",
    "        current = self.head\n",
    "        while current:\n",
    "            print(current.data, end=\" -> \")\n",
    "            current = current.next\n",
    "        print(\"None\")\n",
    "\n",
    "    def delete_zero_sum_sublists(self):\n",
    "        sums = {0: Node(0)}\n",
    "        current_sum = 0\n",
    "        current = self.head\n",
    "        while current:\n",
    "            current_sum += current.data\n",
    "            if current_sum in sums:\n",
    "                sums[current_sum].next = current.next\n",
    "                self.head = sums[current_sum].next\n",
    "            else:\n",
    "                sums[current_sum] = current\n",
    "            current = current.next\n",
    "\n",
    "numbers = input(\"Enter elements of the linked list separated by space: \").split()\n",
    "linked_list = LinkedList()\n",
    "for num in numbers:\n",
    "    linked_list.insert(int(num))\n",
    "\n",
    "print(\"Original Linked List:\")\n",
    "linked_list.display()\n",
    "\n",
    "linked_list.delete_zero_sum_sublists()\n",
    "\n",
    "print(\"Linked List after deleting elements with zero sum:\")\n",
    "linked_list.display()\n"
   ]
  },
  {
   "cell_type": "code",
   "execution_count": 1,
   "metadata": {},
   "outputs": [
    {
     "name": "stdout",
     "output_type": "stream",
     "text": [
      "Linked List after reversing in groups of 5:\n",
      "5 -> 4 -> 3 -> 2 -> 1 -> 1 -> 7 -> 8 -> 9 -> 6 -> 2 -> None\n"
     ]
    }
   ],
   "source": [
    "#Q2. Reverse a linked list in groups of given size\n",
    "\n",
    "class Node:\n",
    "    def __init__(self, data):\n",
    "        self.data = data\n",
    "        self.next = None\n",
    "\n",
    "def reverse_in_groups(head, k):\n",
    "    prev, curr, next = None, head, None\n",
    "    count = 0\n",
    "    while curr and count < k:\n",
    "        next = curr.next\n",
    "        curr.next = prev\n",
    "        prev = curr\n",
    "        curr = next\n",
    "        count += 1\n",
    "    if next:\n",
    "        head.next = reverse_in_groups(next, k)\n",
    "    return prev\n",
    "\n",
    "def print_linked_list(head):\n",
    "    while head:\n",
    "        print(head.data, end=\" -> \")\n",
    "        head = head.next\n",
    "    print(\"None\")\n",
    "\n",
    "numbers = input(\"Enter elements of the linked list separated by space: \").split()\n",
    "head = None\n",
    "for num in numbers:\n",
    "    new_node = Node(int(num))\n",
    "    if not head:\n",
    "        head = new_node\n",
    "    else:\n",
    "        temp = head\n",
    "        while temp.next:\n",
    "            temp = temp.next\n",
    "        temp.next = new_node\n",
    "\n",
    "k = int(input(\"Enter the size of groups to reverse: \"))\n",
    "head = reverse_in_groups(head, k)\n",
    "\n",
    "print(f\"Linked List after reversing in groups of {k}:\")\n",
    "print_linked_list(head)\n"
   ]
  },
  {
   "cell_type": "code",
   "execution_count": 2,
   "metadata": {},
   "outputs": [
    {
     "name": "stdout",
     "output_type": "stream",
     "text": [
      "Merged Linked List at alternate positions:\n",
      "1 -> 2 -> 4 -> 5 -> 7 -> 8 -> None\n"
     ]
    }
   ],
   "source": [
    "#Q3. Merge a linked list into another linked list at alternate positions.\n",
    "\n",
    "class Node:\n",
    "    def __init__(self, data):\n",
    "        self.data = data\n",
    "        self.next = None\n",
    "\n",
    "def merge_alternate_positions(head1, head2):\n",
    "    current1, current2 = head1, head2\n",
    "    while current1 and current2:\n",
    "        temp1, temp2 = current1.next, current2.next\n",
    "        current1.next = current2\n",
    "        current2.next = temp1\n",
    "        current1, current2 = temp1, temp2\n",
    "    return head1\n",
    "\n",
    "def print_linked_list(head):\n",
    "    while head:\n",
    "        print(head.data, end=\" -> \")\n",
    "        head = head.next\n",
    "    print(\"None\")\n",
    "\n",
    "numbers1 = input(\"Enter elements of the first linked list separated by space: \").split()\n",
    "head1 = Node(int(numbers1[0]))\n",
    "current1 = head1\n",
    "for num in numbers1[1:]:\n",
    "    current1.next = Node(int(num))\n",
    "    current1 = current1.next\n",
    "\n",
    "numbers2 = input(\"Enter elements of the second linked list separated by space: \").split()\n",
    "head2 = Node(int(numbers2[0]))\n",
    "current2 = head2\n",
    "for num in numbers2[1:]:\n",
    "    current2.next = Node(int(num))\n",
    "    current2 = current2.next\n",
    "\n",
    "merged_head = merge_alternate_positions(head1, head2)\n",
    "\n",
    "print(\"Merged Linked List at alternate positions:\")\n",
    "print_linked_list(merged_head)\n"
   ]
  },
  {
   "cell_type": "code",
   "execution_count": 3,
   "metadata": {},
   "outputs": [
    {
     "name": "stdout",
     "output_type": "stream",
     "text": [
      "Number of pairs with the given sum 7 is: 3\n"
     ]
    }
   ],
   "source": [
    "#Q4. In an array, Count Pairs with given sum\n",
    "\n",
    "from collections import Counter\n",
    "\n",
    "def count_pairs_with_sum(arr, target_sum):\n",
    "    num_dict = Counter(arr)\n",
    "    count = 0\n",
    "    for num in arr:\n",
    "        complement = target_sum - num\n",
    "        if complement in num_dict:\n",
    "            count += num_dict[complement]\n",
    "        if num * 2 == target_sum:\n",
    "            count -= 1\n",
    "    return count // 2\n",
    "\n",
    "arr = list(map(int, input(\"Enter elements of the array separated by space: \").split()))\n",
    "target_sum = int(input(\"Enter the target sum: \"))\n",
    "\n",
    "result = count_pairs_with_sum(arr, target_sum)\n",
    "print(f\"Number of pairs with the given sum {target_sum} is: {result}\")\n"
   ]
  },
  {
   "cell_type": "code",
   "execution_count": 4,
   "metadata": {},
   "outputs": [
    {
     "name": "stdout",
     "output_type": "stream",
     "text": [
      "Duplicates in the array: [1, 2, 3, 5, 6]\n"
     ]
    }
   ],
   "source": [
    "#Q5. Find duplicates in an array\n",
    "\n",
    "def find_duplicates(arr):\n",
    "    seen = set()\n",
    "    duplicates = set()\n",
    "    for num in arr:\n",
    "        if num in seen:\n",
    "            duplicates.add(num)\n",
    "        else:\n",
    "            seen.add(num)\n",
    "    return list(duplicates)\n",
    "\n",
    "arr = list(map(int, input(\"Enter elements of the array separated by space: \").split()))\n",
    "\n",
    "duplicate_elements = find_duplicates(arr)\n",
    "\n",
    "if duplicate_elements:\n",
    "    print(\"Duplicates in the array:\", duplicate_elements)\n",
    "else:\n",
    "    print(\"No duplicates found in the array.\")\n",
    "\n"
   ]
  },
  {
   "cell_type": "code",
   "execution_count": 5,
   "metadata": {},
   "outputs": [
    {
     "name": "stdout",
     "output_type": "stream",
     "text": [
      "Kth smallest element is: 4\n",
      "Kth largest element is: 6\n"
     ]
    }
   ],
   "source": [
    "#Q6. Find the Kth largest and Kth smallest number in an array\n",
    "\n",
    "def find_kth_elements(arr, k):\n",
    "    arr.sort()  \n",
    "    kth_smallest = arr[k - 1]\n",
    "    kth_largest = arr[-k]\n",
    "    return kth_smallest, kth_largest\n",
    "\n",
    "arr = list(map(int, input(\"Enter elements of the array separated by space: \").split()))\n",
    "k = int(input(\"Enter the value of K: \"))\n",
    "\n",
    "kth_smallest, kth_largest = find_kth_elements(arr, k)\n",
    "\n",
    "print(f\"Kth smallest element is: {kth_smallest}\")\n",
    "print(f\"Kth largest element is: {kth_largest}\")\n"
   ]
  },
  {
   "cell_type": "code",
   "execution_count": 6,
   "metadata": {},
   "outputs": [
    {
     "name": "stdout",
     "output_type": "stream",
     "text": [
      "Array after moving negative elements to one side: [-10, -2, -1, -6, -3, 4, 5, 7, 9, 1]\n"
     ]
    }
   ],
   "source": [
    "#Q7. Move all the negative elements to one side of the array\n",
    "\n",
    "def move_negatives(arr):\n",
    "    left, right = 0, len(arr) - 1\n",
    "    while left <= right:\n",
    "        if arr[left] < 0 and arr[right] < 0:\n",
    "            left += 1\n",
    "        elif arr[left] >= 0 and arr[right] < 0:\n",
    "            arr[left], arr[right] = arr[right], arr[left]\n",
    "            left += 1\n",
    "            right -= 1\n",
    "        elif arr[left] >= 0 and arr[right] >= 0:\n",
    "            right -= 1\n",
    "        else:\n",
    "            left += 1\n",
    "            right -= 1\n",
    "    return arr\n",
    "\n",
    "arr = list(map(int, input(\"Enter elements of the array separated by space: \").split()))\n",
    "\n",
    "modified_arr = move_negatives(arr)\n",
    "\n",
    "print(\"Array after moving negative elements to one side:\", modified_arr)\n"
   ]
  },
  {
   "cell_type": "code",
   "execution_count": 7,
   "metadata": {},
   "outputs": [
    {
     "name": "stdout",
     "output_type": "stream",
     "text": [
      "Reversed string: ecneics atad\n"
     ]
    }
   ],
   "source": [
    "#Q8. Reverse a string using a stack data structure\n",
    "\n",
    "\n",
    "def reverseString(input_string):\n",
    "    stack = list(input_string)\n",
    "    reversed_string = \"\"\n",
    "    while stack:\n",
    "        reversed_string += stack.pop()\n",
    "    return reversed_string\n",
    "\n",
    "if __name__ == \"__main__\":\n",
    "    input_string = input(\"Enter a string: \")\n",
    "    reversed_string = reverseString(input_string)\n",
    "    print(\"Reversed string:\", reversed_string)\n"
   ]
  },
  {
   "cell_type": "code",
   "execution_count": 8,
   "metadata": {},
   "outputs": [
    {
     "name": "stdout",
     "output_type": "stream",
     "text": [
      "Result: 6\n"
     ]
    }
   ],
   "source": [
    "#Q9. Evaluate a postfix expression using stack\n",
    "\n",
    "def evaluate_postfix(expression):\n",
    "    stack = []\n",
    "    operators = set(['+', '-', '*', '/'])\n",
    "\n",
    "    for char in expression:\n",
    "        if char.isdigit():\n",
    "            stack.append(int(char))\n",
    "        elif char in operators:\n",
    "            operand2, operand1 = stack.pop(), stack.pop()\n",
    "            if char == '+':\n",
    "                stack.append(operand1 + operand2)\n",
    "            elif char == '-':\n",
    "                stack.append(operand1 - operand2)\n",
    "            elif char == '*':\n",
    "                stack.append(operand1 * operand2)\n",
    "            elif char == '/':\n",
    "                stack.append(operand1 / operand2)\n",
    "\n",
    "    return stack[0]\n",
    "\n",
    "if __name__ == \"__main__\":\n",
    "    postfix_expression = input(\"Enter a postfix expression: \")\n",
    "    result = evaluate_postfix(postfix_expression)\n",
    "    print(\"Result:\", result)\n"
   ]
  },
  {
   "cell_type": "code",
   "execution_count": 9,
   "metadata": {},
   "outputs": [
    {
     "name": "stdout",
     "output_type": "stream",
     "text": [
      "Queue using Stack Operations:\n",
      "1. Enqueue\n",
      "2. Dequeue\n",
      "3. Quit\n",
      "56 enqueued to the queue.\n",
      "Queue using Stack Operations:\n",
      "1. Enqueue\n",
      "2. Dequeue\n",
      "3. Quit\n",
      "23 enqueued to the queue.\n",
      "Queue using Stack Operations:\n",
      "1. Enqueue\n",
      "2. Dequeue\n",
      "3. Quit\n",
      "42 enqueued to the queue.\n",
      "Queue using Stack Operations:\n",
      "1. Enqueue\n",
      "2. Dequeue\n",
      "3. Quit\n",
      "21 enqueued to the queue.\n",
      "Queue using Stack Operations:\n",
      "1. Enqueue\n",
      "2. Dequeue\n",
      "3. Quit\n",
      "Dequeued element: 56\n",
      "Queue using Stack Operations:\n",
      "1. Enqueue\n",
      "2. Dequeue\n",
      "3. Quit\n",
      "Exiting the program.\n"
     ]
    }
   ],
   "source": [
    "#Q10. Implement a queue using the stack data structure\n",
    "\n",
    "class QueueUsingStacks:\n",
    "    def __init__(self):\n",
    "        self.stack1 = []\n",
    "        self.stack2 = []\n",
    "\n",
    "    def enqueue(self, item):\n",
    "        self.stack1.append(item)\n",
    "\n",
    "    def dequeue(self):\n",
    "        if not self.stack2:\n",
    "            if not self.stack1:\n",
    "                return None\n",
    "            self.stack2.extend(reversed(self.stack1))\n",
    "            self.stack1 = []\n",
    "        return self.stack2.pop()\n",
    "\n",
    "# Main function\n",
    "if __name__ == \"__main__\":\n",
    "    queue = QueueUsingStacks()\n",
    "\n",
    "    while True:\n",
    "        print(\"Queue using Stack Operations:\")\n",
    "        print(\"1. Enqueue\")\n",
    "        print(\"2. Dequeue\")\n",
    "        print(\"3. Quit\")\n",
    "        choice = int(input(\"Enter your choice: \"))\n",
    "\n",
    "        if choice == 1:\n",
    "            item = input(\"Enter the element to enqueue: \")\n",
    "            queue.enqueue(item)\n",
    "            print(f\"{item} enqueued to the queue.\")\n",
    "        elif choice == 2:\n",
    "            item = queue.dequeue()\n",
    "            if item is not None:\n",
    "                print(f\"Dequeued element: {item}\")\n",
    "            else:\n",
    "                print(\"Queue is empty.\")\n",
    "        elif choice == 3:\n",
    "            print(\"Exiting the program.\")\n",
    "            break\n",
    "        else:\n",
    "            print(\"Invalid choice. Please try again.\")\n"
   ]
  }
 ],
 "metadata": {
  "kernelspec": {
   "display_name": "Python 3",
   "language": "python",
   "name": "python3"
  },
  "language_info": {
   "codemirror_mode": {
    "name": "ipython",
    "version": 3
   },
   "file_extension": ".py",
   "mimetype": "text/x-python",
   "name": "python",
   "nbconvert_exporter": "python",
   "pygments_lexer": "ipython3",
   "version": "3.10.4"
  },
  "orig_nbformat": 4
 },
 "nbformat": 4,
 "nbformat_minor": 2
}
